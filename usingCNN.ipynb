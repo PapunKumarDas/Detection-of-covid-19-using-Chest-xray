{
 "cells": [
  {
   "cell_type": "code",
   "execution_count": 1,
   "id": "c34cd9db",
   "metadata": {},
   "outputs": [],
   "source": [
    "import numpy as np\n",
    "import pandas as pd\n",
    "from pathlib import Path\n",
    "import os.path\n",
    "\n",
    "import matplotlib.pyplot as plt\n",
    "import seaborn as sns\n",
    "\n",
    "from sklearn.model_selection import train_test_split\n",
    "\n",
    "import tensorflow as tf\n",
    "\n",
    "from sklearn.metrics import confusion_matrix, classification_report"
   ]
  },
  {
   "cell_type": "code",
   "execution_count": null,
   "id": "e0491e03",
   "metadata": {},
   "outputs": [],
   "source": []
  },
  {
   "cell_type": "code",
   "execution_count": 2,
   "id": "c2e9b3a4",
   "metadata": {},
   "outputs": [],
   "source": [
    "image_dir = Path('dataset')"
   ]
  },
  {
   "cell_type": "code",
   "execution_count": 3,
   "id": "d02b7979",
   "metadata": {},
   "outputs": [],
   "source": [
    "filepaths = list(image_dir.glob(r'**/*.png'))\n",
    "labels = list(map(lambda x: os.path.split(os.path.split(x)[0])[1], filepaths))\n",
    "\n",
    "filepaths = pd.Series(filepaths, name='Filepath').astype(str)\n",
    "labels = pd.Series(labels, name='Label')\n",
    "\n",
    "image_df = pd.concat([filepaths, labels], axis=1)\n"
   ]
  },
  {
   "cell_type": "code",
   "execution_count": 4,
   "id": "4b691cc2",
   "metadata": {},
   "outputs": [
    {
     "data": {
      "text/plain": [
       "0        Covid19 Negative\n",
       "1        Covid19 Negative\n",
       "2        Covid19 Negative\n",
       "3        Covid19 Negative\n",
       "4        Covid19 Negative\n",
       "               ...       \n",
       "13803    Covid19 Positive\n",
       "13804    Covid19 Positive\n",
       "13805    Covid19 Positive\n",
       "13806    Covid19 Positive\n",
       "13807    Covid19 Positive\n",
       "Name: Label, Length: 13808, dtype: object"
      ]
     },
     "execution_count": 4,
     "metadata": {},
     "output_type": "execute_result"
    }
   ],
   "source": [
    "labels"
   ]
  },
  {
   "cell_type": "code",
   "execution_count": 5,
   "id": "bca0f4dc",
   "metadata": {},
   "outputs": [
    {
     "data": {
      "text/html": [
       "<div>\n",
       "<style scoped>\n",
       "    .dataframe tbody tr th:only-of-type {\n",
       "        vertical-align: middle;\n",
       "    }\n",
       "\n",
       "    .dataframe tbody tr th {\n",
       "        vertical-align: top;\n",
       "    }\n",
       "\n",
       "    .dataframe thead th {\n",
       "        text-align: right;\n",
       "    }\n",
       "</style>\n",
       "<table border=\"1\" class=\"dataframe\">\n",
       "  <thead>\n",
       "    <tr style=\"text-align: right;\">\n",
       "      <th></th>\n",
       "      <th>Filepath</th>\n",
       "      <th>Label</th>\n",
       "    </tr>\n",
       "  </thead>\n",
       "  <tbody>\n",
       "    <tr>\n",
       "      <th>0</th>\n",
       "      <td>dataset\\Covid19 Negative\\Normal-1.png</td>\n",
       "      <td>Covid19 Negative</td>\n",
       "    </tr>\n",
       "    <tr>\n",
       "      <th>1</th>\n",
       "      <td>dataset\\Covid19 Negative\\Normal-10.png</td>\n",
       "      <td>Covid19 Negative</td>\n",
       "    </tr>\n",
       "    <tr>\n",
       "      <th>2</th>\n",
       "      <td>dataset\\Covid19 Negative\\Normal-100.png</td>\n",
       "      <td>Covid19 Negative</td>\n",
       "    </tr>\n",
       "    <tr>\n",
       "      <th>3</th>\n",
       "      <td>dataset\\Covid19 Negative\\Normal-1000.png</td>\n",
       "      <td>Covid19 Negative</td>\n",
       "    </tr>\n",
       "    <tr>\n",
       "      <th>4</th>\n",
       "      <td>dataset\\Covid19 Negative\\Normal-10000.png</td>\n",
       "      <td>Covid19 Negative</td>\n",
       "    </tr>\n",
       "    <tr>\n",
       "      <th>...</th>\n",
       "      <td>...</td>\n",
       "      <td>...</td>\n",
       "    </tr>\n",
       "    <tr>\n",
       "      <th>13803</th>\n",
       "      <td>dataset\\Covid19 Positive\\COVID-995.png</td>\n",
       "      <td>Covid19 Positive</td>\n",
       "    </tr>\n",
       "    <tr>\n",
       "      <th>13804</th>\n",
       "      <td>dataset\\Covid19 Positive\\COVID-996.png</td>\n",
       "      <td>Covid19 Positive</td>\n",
       "    </tr>\n",
       "    <tr>\n",
       "      <th>13805</th>\n",
       "      <td>dataset\\Covid19 Positive\\COVID-997.png</td>\n",
       "      <td>Covid19 Positive</td>\n",
       "    </tr>\n",
       "    <tr>\n",
       "      <th>13806</th>\n",
       "      <td>dataset\\Covid19 Positive\\COVID-998.png</td>\n",
       "      <td>Covid19 Positive</td>\n",
       "    </tr>\n",
       "    <tr>\n",
       "      <th>13807</th>\n",
       "      <td>dataset\\Covid19 Positive\\COVID-999.png</td>\n",
       "      <td>Covid19 Positive</td>\n",
       "    </tr>\n",
       "  </tbody>\n",
       "</table>\n",
       "<p>13808 rows × 2 columns</p>\n",
       "</div>"
      ],
      "text/plain": [
       "                                        Filepath             Label\n",
       "0          dataset\\Covid19 Negative\\Normal-1.png  Covid19 Negative\n",
       "1         dataset\\Covid19 Negative\\Normal-10.png  Covid19 Negative\n",
       "2        dataset\\Covid19 Negative\\Normal-100.png  Covid19 Negative\n",
       "3       dataset\\Covid19 Negative\\Normal-1000.png  Covid19 Negative\n",
       "4      dataset\\Covid19 Negative\\Normal-10000.png  Covid19 Negative\n",
       "...                                          ...               ...\n",
       "13803     dataset\\Covid19 Positive\\COVID-995.png  Covid19 Positive\n",
       "13804     dataset\\Covid19 Positive\\COVID-996.png  Covid19 Positive\n",
       "13805     dataset\\Covid19 Positive\\COVID-997.png  Covid19 Positive\n",
       "13806     dataset\\Covid19 Positive\\COVID-998.png  Covid19 Positive\n",
       "13807     dataset\\Covid19 Positive\\COVID-999.png  Covid19 Positive\n",
       "\n",
       "[13808 rows x 2 columns]"
      ]
     },
     "execution_count": 5,
     "metadata": {},
     "output_type": "execute_result"
    }
   ],
   "source": [
    "image_df"
   ]
  },
  {
   "cell_type": "code",
   "execution_count": 7,
   "id": "7dec4331",
   "metadata": {},
   "outputs": [],
   "source": [
    "train_df, test_df = train_test_split(image_df, train_size=0.75, shuffle=True, random_state=1)"
   ]
  },
  {
   "cell_type": "code",
   "execution_count": 8,
   "id": "076121e2",
   "metadata": {},
   "outputs": [],
   "source": [
    "train_generator = tf.keras.preprocessing.image.ImageDataGenerator(\n",
    "    rescale=1./255,\n",
    "    horizontal_flip=True,\n",
    "    width_shift_range=0.2,\n",
    "    height_shift_range=0.2,\n",
    "    validation_split=0.2\n",
    ")\n",
    "\n",
    "test_generator = tf.keras.preprocessing.image.ImageDataGenerator(\n",
    "    rescale=1./255\n",
    ")"
   ]
  },
  {
   "cell_type": "code",
   "execution_count": 9,
   "id": "1e9daaed",
   "metadata": {},
   "outputs": [
    {
     "name": "stdout",
     "output_type": "stream",
     "text": [
      "Found 8285 validated image filenames belonging to 2 classes.\n",
      "Found 2071 validated image filenames belonging to 2 classes.\n",
      "Found 3452 validated image filenames belonging to 2 classes.\n"
     ]
    }
   ],
   "source": [
    "train_images = train_generator.flow_from_dataframe(\n",
    "    dataframe=train_df,\n",
    "    x_col='Filepath',\n",
    "    y_col='Label',\n",
    "    target_size=(224, 224),\n",
    "    color_mode='rgb',\n",
    "    class_mode='binary',\n",
    "    batch_size=32,\n",
    "    shuffle=True,\n",
    "    seed=42,\n",
    "    subset='training'\n",
    ")\n",
    "\n",
    "val_images = train_generator.flow_from_dataframe(\n",
    "    dataframe=train_df,\n",
    "    x_col='Filepath',\n",
    "    y_col='Label',\n",
    "    target_size=(224, 224),\n",
    "    color_mode='rgb',\n",
    "    class_mode='binary',\n",
    "    batch_size=32,\n",
    "    shuffle=True,\n",
    "    seed=42,\n",
    "    subset='validation'\n",
    ")\n",
    "\n",
    "test_images = test_generator.flow_from_dataframe(\n",
    "    dataframe=test_df,\n",
    "    x_col='Filepath',\n",
    "    y_col='Label',\n",
    "    target_size=(224, 224),\n",
    "    color_mode='rgb',\n",
    "    class_mode='binary',\n",
    "    batch_size=32,\n",
    "    shuffle=False\n",
    ")"
   ]
  },
  {
   "cell_type": "code",
   "execution_count": 10,
   "id": "51021eb5",
   "metadata": {},
   "outputs": [
    {
     "name": "stdout",
     "output_type": "stream",
     "text": [
      "Epoch 1/20\n",
      "259/259 [==============================] - 154s 595ms/step - loss: 0.5862 - accuracy: 0.7368 - val_loss: 0.5647 - val_accuracy: 0.7344 - lr: 0.0010\n",
      "Epoch 2/20\n",
      "259/259 [==============================] - 157s 607ms/step - loss: 0.5459 - accuracy: 0.7389 - val_loss: 0.5403 - val_accuracy: 0.7402 - lr: 0.0010\n",
      "Epoch 3/20\n",
      "259/259 [==============================] - 157s 607ms/step - loss: 0.5377 - accuracy: 0.7403 - val_loss: 0.5268 - val_accuracy: 0.7518 - lr: 0.0010\n",
      "Epoch 4/20\n",
      "259/259 [==============================] - 158s 608ms/step - loss: 0.5339 - accuracy: 0.7477 - val_loss: 0.5484 - val_accuracy: 0.7359 - lr: 0.0010\n",
      "Epoch 5/20\n",
      "259/259 [==============================] - 157s 607ms/step - loss: 0.5343 - accuracy: 0.7517 - val_loss: 0.5283 - val_accuracy: 0.7528 - lr: 0.0010\n",
      "Epoch 6/20\n",
      "259/259 [==============================] - 157s 607ms/step - loss: 0.5315 - accuracy: 0.7537 - val_loss: 0.5272 - val_accuracy: 0.7508 - lr: 0.0010\n",
      "Epoch 7/20\n",
      "259/259 [==============================] - 157s 606ms/step - loss: 0.5288 - accuracy: 0.7520 - val_loss: 0.5214 - val_accuracy: 0.7571 - lr: 1.0000e-04\n",
      "Epoch 8/20\n",
      "259/259 [==============================] - 158s 609ms/step - loss: 0.5280 - accuracy: 0.7514 - val_loss: 0.5226 - val_accuracy: 0.7499 - lr: 1.0000e-04\n",
      "Epoch 9/20\n",
      "259/259 [==============================] - 157s 607ms/step - loss: 0.5272 - accuracy: 0.7544 - val_loss: 0.5280 - val_accuracy: 0.7475 - lr: 1.0000e-04\n",
      "Epoch 10/20\n",
      "259/259 [==============================] - 156s 603ms/step - loss: 0.5265 - accuracy: 0.7534 - val_loss: 0.5268 - val_accuracy: 0.7436 - lr: 1.0000e-04\n",
      "Epoch 11/20\n",
      "259/259 [==============================] - 157s 605ms/step - loss: 0.5275 - accuracy: 0.7503 - val_loss: 0.5245 - val_accuracy: 0.7446 - lr: 1.0000e-05\n",
      "Epoch 12/20\n",
      "259/259 [==============================] - 155s 600ms/step - loss: 0.5243 - accuracy: 0.7550 - val_loss: 0.5285 - val_accuracy: 0.7417 - lr: 1.0000e-05\n"
     ]
    }
   ],
   "source": [
    "inputs = tf.keras.Input(shape=(224, 224, 3))\n",
    "x = tf.keras.layers.Conv2D(filters=16, kernel_size=(3, 3), activation='relu')(inputs)\n",
    "x = tf.keras.layers.MaxPool2D()(x)\n",
    "x = tf.keras.layers.Conv2D(filters=32, kernel_size=(3, 3), activation='relu')(x)\n",
    "x = tf.keras.layers.MaxPool2D()(x)\n",
    "x = tf.keras.layers.GlobalAveragePooling2D()(x)\n",
    "x = tf.keras.layers.Dense(128, activation='relu')(x)\n",
    "x = tf.keras.layers.Dense(128, activation='relu')(x)\n",
    "outputs = tf.keras.layers.Dense(1, activation='sigmoid')(x)\n",
    "\n",
    "model = tf.keras.Model(inputs=inputs, outputs=outputs)\n",
    "\n",
    "model.compile(\n",
    "    optimizer='adam',\n",
    "    loss='binary_crossentropy',\n",
    "    metrics=['accuracy']\n",
    ")\n",
    "\n",
    "history = model.fit(\n",
    "    train_images,\n",
    "    validation_data=val_images,\n",
    "    epochs=20,\n",
    "    callbacks=[\n",
    "        tf.keras.callbacks.EarlyStopping(\n",
    "            monitor='val_loss',\n",
    "            patience=5,\n",
    "            restore_best_weights=True\n",
    "        ),\n",
    "        tf.keras.callbacks.ReduceLROnPlateau(\n",
    "            monitor='val_loss',\n",
    "            patience=3\n",
    "        )\n",
    "    ]\n",
    ")"
   ]
  },
  {
   "cell_type": "code",
   "execution_count": 12,
   "id": "4df03bde",
   "metadata": {},
   "outputs": [
    {
     "name": "stdout",
     "output_type": "stream",
     "text": [
      "    Test Loss: 0.53882\n",
      "Test Accuracy: 73.73%\n"
     ]
    }
   ],
   "source": [
    "results = model.evaluate(test_images, verbose=0)\n",
    "\n",
    "print(\"    Test Loss: {:.5f}\".format(results[0]))\n",
    "print(\"Test Accuracy: {:.2f}%\".format(results[1] * 100))"
   ]
  },
  {
   "cell_type": "code",
   "execution_count": 13,
   "id": "1c0e6c64",
   "metadata": {},
   "outputs": [
    {
     "data": {
      "image/png": "[encoded data removed]",
      "text/plain": [
       "<Figure size 432x288 with 1 Axes>"
      ]
     },
     "metadata": {
      "needs_background": "light"
     },
     "output_type": "display_data"
    }
   ],
   "source": [
    "from matplotlib import pyplot as plt\n",
    "\n",
    "plt.plot(history.history['loss'],'r',label='training loss')\n",
    "plt.plot(history.history['val_loss'],label='validation loss')\n",
    "plt.xlabel('# epochs')\n",
    "plt.ylabel('loss')\n",
    "plt.legend()\n",
    "plt.show()"
   ]
  },
  {
   "cell_type": "code",
   "execution_count": 14,
   "id": "5c28c6d8",
   "metadata": {},
   "outputs": [
    {
     "data": {
      "image/png": "[encoded data removed]",
      "text/plain": [
       "<Figure size 432x288 with 1 Axes>"
      ]
     },
     "metadata": {
      "needs_background": "light"
     },
     "output_type": "display_data"
    }
   ],
   "source": [
    "plt.plot(history.history['accuracy'],'r',label='training accuracy')\n",
    "plt.plot(history.history['val_accuracy'],label='validation accuracy')\n",
    "plt.xlabel('# epochs')\n",
    "plt.ylabel('loss')\n",
    "plt.legend()\n",
    "plt.show()"
   ]
  },
  {
   "cell_type": "code",
   "execution_count": 16,
   "id": "cd5bacfa",
   "metadata": {},
   "outputs": [
    {
     "name": "stderr",
     "output_type": "stream",
     "text": [
      "c:\\users\\user\\appdata\\local\\programs\\python\\python37\\lib\\site-packages\\ipykernel_launcher.py:1: DeprecationWarning: `np.int` is a deprecated alias for the builtin `int`. To silence this warning, use `int` by itself. Doing this will not modify any behavior and is safe. When replacing `np.int`, you may wish to use e.g. `np.int64` or `np.int32` to specify the precision. If you wish to review your current use, check the release note link for additional information.\n",
      "Deprecated in NumPy 1.20; for more details and guidance: https://numpy.org/devdocs/release/1.20.0-notes.html#deprecations\n",
      "  \"\"\"Entry point for launching an IPython kernel.\n"
     ]
    },
    {
     "data": {
      "image/png": "[encoded data removed]",
      "text/plain": [
       "<Figure size 432x432 with 1 Axes>"
      ]
     },
     "metadata": {
      "needs_background": "light"
     },
     "output_type": "display_data"
    },
    {
     "name": "stdout",
     "output_type": "stream",
     "text": [
      "Classification Report:\n",
      "----------------------\n",
      "               precision    recall  f1-score   support\n",
      "\n",
      "         CAT       0.76      0.94      0.84      2547\n",
      "         DOG       0.50      0.17      0.26       905\n",
      "\n",
      "   micro avg       0.74      0.74      0.74      3452\n",
      "   macro avg       0.63      0.56      0.55      3452\n",
      "weighted avg       0.69      0.74      0.69      3452\n",
      "\n"
     ]
    }
   ],
   "source": [
    "predictions = (model.predict(test_images) >= 0.5).astype(np.int)\n",
    "\n",
    "cm = confusion_matrix(test_images.labels, predictions, labels=[0, 1])\n",
    "clr = classification_report(test_images.labels, predictions, labels=[0, 1], target_names=[\"Covid Positive \", \"Covid Negative\"])\n",
    "\n",
    "plt.figure(figsize=(6, 6))\n",
    "sns.heatmap(cm, annot=True, fmt='g', vmin=0, cmap='Blues', cbar=False)\n",
    "plt.xticks(ticks=[0.5, 1.5], labels=[\"Covid Positive \", \"Covid Negative\"])\n",
    "plt.yticks(ticks=[0.5, 1.5], labels=[\"Covid Positive\", \"Covid Negative\"])\n",
    "plt.xlabel(\"Predicted\")\n",
    "plt.ylabel(\"Actual\")\n",
    "plt.title(\"Confusion Matrix\")\n",
    "plt.show()\n",
    "\n",
    "print(\"Classification Report:\\n----------------------\\n\", clr)\n"
   ]
  },
  {
   "cell_type": "code",
   "execution_count": 19,
   "id": "8be6dde8",
   "metadata": {},
   "outputs": [],
   "source": [
    "from tensorflow.keras.models import load_model\n",
    "\n",
    "model.save('xraymodel.h5')\n",
    "from tensorflow.keras.models import load_model\n",
    " \n",
    "# load model\n",
    "# model = load_model('model_rcat_dog.h5')"
   ]
  }
 ],
 "metadata": {
  "kernelspec": {
   "display_name": "Python 3 (ipykernel)",
   "language": "python",
   "name": "python3"
  },
  "language_info": {
   "codemirror_mode": {
    "name": "ipython",
    "version": 3
   },
   "file_extension": ".py",
   "mimetype": "text/x-python",
   "name": "python",
   "nbconvert_exporter": "python",
   "pygments_lexer": "ipython3",
   "version": "3.7.9"
  }
 },
 "nbformat": 4,
 "nbformat_minor": 5
}
